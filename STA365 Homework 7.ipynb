{
 "cells": [
  {
   "cell_type": "markdown",
   "id": "22c8b630",
   "metadata": {},
   "source": [
    "# HW 7"
   ]
  },
  {
   "cell_type": "markdown",
   "id": "1975cad7",
   "metadata": {},
   "source": [
    "1. To create the posterior predictive distribution in mixture models, we first use the observed data to update our beliefs about the parameters of each component in the mixture (including the mixture weights). Then, for new data predictions, we average over all possible parameter values (considering our updated beliefs) and over the mixture components. Essentially, we predict new data points by considering how likely they are to come from each component of the mixture.\n",
    "\n",
    "2. The posterior predictive distribution is formed by integrating the likelihood of new data over all possible values of the parameters, weighted by the posterior distribution of the parameters. This process involves using the observed data to update our knowledge about the parameters and then using this updated knowledge to make predictions about new data. It captures the uncertainty about the parameters by averaging over their possible values.\n",
    "\n",
    "3. In a Bayesian framework, we can handle missing data by treating the missing values as additional parameters to be estimated, much like latent variables. During the analysis, we infer both the parameters of the regression and the missing values from the observed data, under the assumption that the data are missing at random (MAR) or missing completely at random (MCAR). This approach allows us to use all available data without discarding incomplete rows, incorporating uncertainty about the missing values into the inference process."
   ]
  }
 ],
 "metadata": {
  "kernelspec": {
   "display_name": "Python 3 (ipykernel)",
   "language": "python",
   "name": "python3"
  },
  "language_info": {
   "codemirror_mode": {
    "name": "ipython",
    "version": 3
   },
   "file_extension": ".py",
   "mimetype": "text/x-python",
   "name": "python",
   "nbconvert_exporter": "python",
   "pygments_lexer": "ipython3",
   "version": "3.11.6"
  }
 },
 "nbformat": 4,
 "nbformat_minor": 5
}
