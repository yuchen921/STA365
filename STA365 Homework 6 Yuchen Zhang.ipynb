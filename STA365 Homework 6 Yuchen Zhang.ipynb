{
 "cells": [
  {
   "cell_type": "code",
   "execution_count": 1,
   "id": "c602228c",
   "metadata": {},
   "outputs": [
    {
     "name": "stderr",
     "output_type": "stream",
     "text": [
      "Auto-assigning NUTS sampler...\n",
      "Initializing NUTS using jitter+adapt_diag...\n",
      "Multiprocess sampling (4 chains in 4 jobs)\n",
      "NUTS: [beta_prior]\n"
     ]
    },
    {
     "data": {
      "text/html": [
       "\n",
       "<style>\n",
       "    /* Turns off some styling */\n",
       "    progress {\n",
       "        /* gets rid of default border in Firefox and Opera. */\n",
       "        border: none;\n",
       "        /* Needs to be in here for Safari polyfill so background images work as expected. */\n",
       "        background-size: auto;\n",
       "    }\n",
       "    progress:not([value]), progress:not([value])::-webkit-progress-bar {\n",
       "        background: repeating-linear-gradient(45deg, #7e7e7e, #7e7e7e 10px, #5c5c5c 10px, #5c5c5c 20px);\n",
       "    }\n",
       "    .progress-bar-interrupted, .progress-bar-interrupted::-webkit-progress-bar {\n",
       "        background: #F44336;\n",
       "    }\n",
       "</style>\n"
      ],
      "text/plain": [
       "<IPython.core.display.HTML object>"
      ]
     },
     "metadata": {},
     "output_type": "display_data"
    },
    {
     "data": {
      "text/html": [
       "\n",
       "    <div>\n",
       "      <progress value='8000' class='' max='8000' style='width:300px; height:20px; vertical-align: middle;'></progress>\n",
       "      100.00% [8000/8000 00:04&lt;00:00 Sampling 4 chains, 0 divergences]\n",
       "    </div>\n",
       "    "
      ],
      "text/plain": [
       "<IPython.core.display.HTML object>"
      ]
     },
     "metadata": {},
     "output_type": "display_data"
    },
    {
     "name": "stderr",
     "output_type": "stream",
     "text": [
      "Sampling 4 chains for 1_000 tune and 1_000 draw iterations (4_000 + 4_000 draws total) took 4 seconds.\n"
     ]
    }
   ],
   "source": [
    "import pymc as pm\n",
    "import numpy as np\n",
    "\n",
    "n_samples = 100\n",
    "n_features = 10\n",
    "X = np.zeros((n_samples, n_features))\n",
    "y = np.ones((n_samples, 1))\n",
    "\n",
    "with pm.Model() as logistic_model:\n",
    "    \n",
    "    beta_prior = pm.MvNormal('beta_prior', mu=np.zeros(n_features), cov=np.eye(n_features), shape=n_features)\n",
    "    linear_combination = pm.math.dot(X, beta_prior)\n",
    "    p_logistic = pm.math.sigmoid(linear_combination)\n",
    "    observations = pm.Bernoulli('observations', p=p_logistic, observed=y)\n",
    "\n",
    "with logistic_model:\n",
    "    inference_data = pm.sample()"
   ]
  },
  {
   "cell_type": "code",
   "execution_count": null,
   "id": "d26139bf",
   "metadata": {},
   "outputs": [],
   "source": [
    "import pymc as pm\n",
    "import numpy as np\n",
    "import arviz as az\n",
    "\n",
    "np.random.seed(365)\n",
    "\n",
    "n_samples = 100\n",
    "n_features = 1\n",
    "true_beta = 2.5\n",
    "noise_std_dev = 1\n",
    "\n",
    "X = np.random.normal(size=(n_samples, n_features))\n",
    "mu = X * true_beta\n",
    "y = np.random.normal(mu.flatten(), scale=noise_std_dev)\n",
    "\n",
    "with pm.Model() as robust_regression_model:\n",
    "    beta = pm.Normal('beta', mu=0, sd=10)\n",
    "    nu = pm.Exponential('nu', 1/29) + 1\n",
    "    lambda_prior = pm.Gamma('lambda_prior', alpha=nu/2, beta=nu/2, shape=n_samples)\n",
    "    sigma_prior = pm.Deterministic('sigma_prior', 1 / np.sqrt(lambda_prior))\n",
    "    y_observed = pm.Normal('y_observed', mu=X[:, 0] * beta, sd=sigma_prior, observed=y)\n",
    "    trace = pm.sample(1000, target_accept=0.9, return_inferencedata=True)\n",
    "\n",
    "lambda_posterior_mean = az.summary(trace, var_names=['lambda_prior'])['mean'].values\n",
    "outlier_cutoff = np.quantile(lambda_posterior_mean, 0.05)\n",
    "potential_outliers = np.where(lambda_posterior_mean < outlier_cutoff)[0]\n",
    "\n",
    "print(f\"Identified potential outliers: {potential_outliers}\")"
   ]
  },
  {
   "cell_type": "code",
   "execution_count": null,
   "id": "cc92e771",
   "metadata": {},
   "outputs": [],
   "source": []
  }
 ],
 "metadata": {
  "kernelspec": {
   "display_name": "Python 3 (ipykernel)",
   "language": "python",
   "name": "python3"
  },
  "language_info": {
   "codemirror_mode": {
    "name": "ipython",
    "version": 3
   },
   "file_extension": ".py",
   "mimetype": "text/x-python",
   "name": "python",
   "nbconvert_exporter": "python",
   "pygments_lexer": "ipython3",
   "version": "3.11.6"
  }
 },
 "nbformat": 4,
 "nbformat_minor": 5
}
